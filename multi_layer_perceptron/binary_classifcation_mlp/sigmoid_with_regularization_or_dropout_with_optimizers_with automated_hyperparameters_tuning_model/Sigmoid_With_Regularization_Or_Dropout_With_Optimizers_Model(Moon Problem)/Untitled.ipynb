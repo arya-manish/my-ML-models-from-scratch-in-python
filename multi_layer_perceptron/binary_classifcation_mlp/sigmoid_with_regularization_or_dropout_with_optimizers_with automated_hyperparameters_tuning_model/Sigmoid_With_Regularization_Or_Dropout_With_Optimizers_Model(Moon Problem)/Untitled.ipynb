{
 "cells": [
  {
   "cell_type": "markdown",
   "metadata": {},
   "source": [
    "## Automated Hyperparameters Tuning"
   ]
  },
  {
   "cell_type": "markdown",
   "metadata": {},
   "source": [
    "### Defining Sets Of Random Hyperparameters"
   ]
  },
  {
   "cell_type": "markdown",
   "metadata": {},
   "source": [
    "#### define set of random layers_dims (random number of layers and neurons per layer)"
   ]
  },
  {
   "cell_type": "code",
   "execution_count": null,
   "metadata": {},
   "outputs": [],
   "source": [
    "import random\n",
    "import numpy as np"
   ]
  },
  {
   "cell_type": "code",
   "execution_count": null,
   "metadata": {},
   "outputs": [],
   "source": [
    "\n",
    "def random_layers_dims():\n",
    "    num_hidden_layers = np.random.randint(1,5)\n",
    "    layers_dims_array = np.random.randint(10,20, size = num_hidden_layers)\n",
    "    layers_dims = layers_dims_array.tolist()\n",
    "    layers_dims.insert(0, X_train.shape[0])\n",
    "    layers_dims.append(1)\n",
    "    return layers_dims"
   ]
  },
  {
   "cell_type": "markdown",
   "metadata": {},
   "source": [
    "#### define set of random alpha"
   ]
  },
  {
   "cell_type": "code",
   "execution_count": null,
   "metadata": {},
   "outputs": [],
   "source": [
    "def random_alpha():\n",
    "    alphaindex = -4*np.random.rand()\n",
    "    alpha = 10**alphaindex\n",
    "    return alpha"
   ]
  },
  {
   "cell_type": "markdown",
   "metadata": {},
   "source": [
    "#### define set of random minibatches"
   ]
  },
  {
   "cell_type": "code",
   "execution_count": null,
   "metadata": {},
   "outputs": [],
   "source": [
    "def random_minibatch_size():\n",
    "    minibatch_size_list = [32, 64, 128, 256, 512, 1024, 2048, 4096, X_train.shape[1]]\n",
    "    minibatch_size = random.choice(minibatch_size_list)\n",
    "    return minibatch_size"
   ]
  },
  {
   "cell_type": "markdown",
   "metadata": {},
   "source": [
    "#### define set of random optimizer"
   ]
  },
  {
   "cell_type": "code",
   "execution_count": 3,
   "metadata": {},
   "outputs": [],
   "source": [
    "def random_optimizer():  \n",
    "    optimizers_list = ['gd', 'momentum', 'rms_prop', 'adam']\n",
    "    optimizer = random.choice(optimizers_list)\n",
    "    return optimizer\n",
    "    "
   ]
  },
  {
   "cell_type": "code",
   "execution_count": null,
   "metadata": {},
   "outputs": [],
   "source": []
  }
 ],
 "metadata": {
  "kernelspec": {
   "display_name": "Python 3",
   "language": "python",
   "name": "python3"
  },
  "language_info": {
   "codemirror_mode": {
    "name": "ipython",
    "version": 3
   },
   "file_extension": ".py",
   "mimetype": "text/x-python",
   "name": "python",
   "nbconvert_exporter": "python",
   "pygments_lexer": "ipython3",
   "version": "3.5.5"
  }
 },
 "nbformat": 4,
 "nbformat_minor": 2
}
