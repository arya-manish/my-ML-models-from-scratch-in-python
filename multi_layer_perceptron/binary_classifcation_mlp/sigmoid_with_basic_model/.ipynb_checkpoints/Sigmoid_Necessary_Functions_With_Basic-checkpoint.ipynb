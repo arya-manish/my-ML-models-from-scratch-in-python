{
 "cells": [
  {
   "cell_type": "code",
   "execution_count": 2,
   "metadata": {},
   "outputs": [],
   "source": [
    "import numpy as np\n",
    "import matplotlib.pyplot as plt\n",
    "\n"
   ]
  },
  {
   "cell_type": "markdown",
   "metadata": {},
   "source": [
    "### ReLu"
   ]
  },
  {
   "cell_type": "code",
   "execution_count": 3,
   "metadata": {},
   "outputs": [],
   "source": [
    "# ReLu\n",
    "def relu(x):\n",
    "    \n",
    "   #  Arguments:\n",
    "   #x -- A scalar or numpy array of any size.\n",
    "    \n",
    "    r = np.maximum(0,x)\n",
    "    \n",
    "    return r"
   ]
  },
  {
   "cell_type": "markdown",
   "metadata": {},
   "source": [
    "### Sigmoid"
   ]
  },
  {
   "cell_type": "code",
   "execution_count": 4,
   "metadata": {},
   "outputs": [],
   "source": [
    "# Sigmoid\n",
    "def sigmoid(x):\n",
    "    \n",
    "    #  Arguments:\n",
    "    #x -- A scalar or numpy array of any size.\n",
    "    \n",
    "    s = 1/(1+np.exp(-x))\n",
    "    return s\n"
   ]
  },
  {
   "cell_type": "markdown",
   "metadata": {},
   "source": [
    "#### He initialization"
   ]
  },
  {
   "cell_type": "code",
   "execution_count": 5,
   "metadata": {},
   "outputs": [],
   "source": [
    "def He_initialize_parameters(layers_dims):\n",
    "    L = len(layers_dims)\n",
    "    parameters = {}\n",
    "    for k in range(1,L):\n",
    "        parameters['W'+str(k)] = (np.random.randn(layers_dims[k],layers_dims[k-1]))*np.sqrt(2/layers_dims[k-1])\n",
    "        parameters['b' +str(k)] = np.zeros((layers_dims[k],1))\n",
    "    return parameters    "
   ]
  },
  {
   "cell_type": "markdown",
   "metadata": {},
   "source": [
    "### Compute Cost for sigmoid"
   ]
  },
  {
   "cell_type": "code",
   "execution_count": 6,
   "metadata": {},
   "outputs": [],
   "source": [
    "def compute_cost_sigmoid(AL, Y):\n",
    "    m = Y.shape[1]\n",
    "    J = -(1/m)*np.sum((np.multiply(Y, np.log(AL)) + np.multiply((1 - Y), np.log(1 - AL))))\n",
    "    return J"
   ]
  },
  {
   "cell_type": "markdown",
   "metadata": {},
   "source": [
    "### Forward Propagation (   linear -> relu ->linear ->relu.....->linear ->sigmoid)"
   ]
  },
  {
   "cell_type": "code",
   "execution_count": 7,
   "metadata": {},
   "outputs": [],
   "source": [
    "def forward_prop(X, parameters):   # linear -> relu ->linear ->relu.....->linear ->sigmoid\n",
    "    \n",
    "    L = int((1/2)*len(parameters))\n",
    "    globals()['A'+ str(0)] = X\n",
    "    for l in range(1, L):  # linear->relu upto L-1 layer\n",
    "        globals()['Z'+ str(l)] = np.dot(parameters['W'+str(l)], (globals()['A'+ str(l-1)])) + parameters['b' +str(l)]\n",
    "        globals()['A'+ str(l)] = relu((globals()['Z'+ str(l)]))\n",
    "    \n",
    "    globals()['Z'+ str(L)] = np.dot(parameters['W'+str(L)], (globals()['A'+ str(L-1)])) + parameters['b' +str(L)] \n",
    "    globals()['A'+ str(L)] = sigmoid((globals()['Z'+ str(L)]))                                \n",
    "    # storing values in cache\n",
    "    lst = []   # creating list and adding Z1, A1, W1, b1... then converting it into a tuple\n",
    "    \n",
    "    for l in range(1,L+1):                                  \n",
    "        lst.append(globals()['Z'+ str(l)])\n",
    "        lst.append(globals()['A'+ str(l)])                              \n",
    "        lst.append(parameters['W' +str(l)])\n",
    "        lst.append(parameters['b' +str(l)]) \n",
    "    cache = tuple(lst)\n",
    "    \n",
    "    return (globals()['A'+ str(L)]), cache"
   ]
  },
  {
   "cell_type": "markdown",
   "metadata": {},
   "source": [
    "### Backward Propagation (linear -> relu ->linear ->relu.....->linear ->sigmoid)"
   ]
  },
  {
   "cell_type": "code",
   "execution_count": 8,
   "metadata": {},
   "outputs": [],
   "source": [
    "# relu ->relu ->......->relu ->sigmoid\n",
    "# cache has order ( Z1, A1, W1, b1, Z2,, A2, W2, b2...)\n",
    "def back_prop_without_regularization(X, Y, cache):  \n",
    "    L = int((len(cache))/4)\n",
    "    m = X.shape[1]\n",
    "    globals()['A'+ str(0)] = X\n",
    "    for i in range(1,L+1):   # retrieving the cache elements\n",
    "        globals()['Z'+ str(i)]  =  cache[4*i - 4]\n",
    "        globals()['A' + str(i)] =  cache[4*i - 3]\n",
    "        globals()['W' +str(i)]  =   cache[4*i - 2]\n",
    "        globals()['b' +str(i)]  =   cache[4*i - 1]\n",
    "    # back prop equations for last element , last layer uses sigmoid\n",
    "    globals()['dZ' + str(L)] = (1/m)*((globals()['A' + str(L)]) - Y) # I have proved that, for softmax and sigmoid, this equation remains same\n",
    "    globals()['dW' + str(L)] = np.dot((globals()['dZ' + str(L)]), (globals()['A' + str(L -1)]).T)\n",
    "    globals()['db' + str(L)] = np.sum((globals()['dZ' + str(L)]), axis = 1, keepdims = True)\n",
    "    globals()['dA' + str(L-1)]  = np.dot((globals()['W' +str(i)]).T , (globals()['dZ' + str(L)]))\n",
    "    \n",
    "    # back prop equations for layers L-1, L-2, ....1\n",
    "    for l in range(L-1, 0, -1):\n",
    "        globals()['dZ' + str(l)] = np.multiply((globals()['dA' + str(l)]), np.int64((globals()['A' + str(l)])>0))\n",
    "        globals()['dW' + str(l)] = np.dot((globals()['dZ' + str(l)]), (globals()['A' + str(l -1)]).T)\n",
    "        globals()['db' + str(l)] = np.sum((globals()['dZ' + str(l)]), axis = 1, keepdims = True)\n",
    "        globals()['dA' + str(l-1)] = np.dot((globals()['W' +str(l)]).T , (globals()['dZ' + str(l)]))\n",
    "\n",
    "    # updating gradients in dictionary\n",
    "    gradients = {}\n",
    "    for i in range(1, L+1):\n",
    "        gradients[('dW' +str(i))] = globals()['dW' +str(i)] \n",
    "        gradients[('db' +str(i))] = globals()['db' +str(i)]\n",
    "    \n",
    "    return gradients    \n",
    "        "
   ]
  },
  {
   "cell_type": "markdown",
   "metadata": {},
   "source": [
    "### Gradient Descent Update Rule"
   ]
  },
  {
   "cell_type": "code",
   "execution_count": 9,
   "metadata": {},
   "outputs": [],
   "source": [
    "def gradient_descent_update(parameters, gradients, learning_rate):\n",
    "    L = int(len(parameters)/2)\n",
    "    for l in range (1,L+1):\n",
    "        parameters['W' +str(l)] = parameters['W' + str(l)] - learning_rate*gradients['dW' + str(l)]\n",
    "        parameters['b' +str(l)] = parameters['b' + str(l)] - learning_rate*gradients['db' +str(l)]\n",
    "    return parameters   "
   ]
  },
  {
   "cell_type": "markdown",
   "metadata": {},
   "source": [
    "### Predict Accuracy with Sigmoid"
   ]
  },
  {
   "cell_type": "code",
   "execution_count": 10,
   "metadata": {},
   "outputs": [],
   "source": [
    "def predict_accuracy(X, Y, parameters):\n",
    "    m = Y.shape[1]\n",
    "    AL,cache = forward_prop(X,parameters)\n",
    "    AL_predicted = (AL > 0.5)\n",
    "    accuracy = np.sum(np.float32(AL_predicted == Y))/m\n",
    "    \n",
    "    return accuracy\n",
    "    \n",
    "    \n",
    "        "
   ]
  },
  {
   "cell_type": "markdown",
   "metadata": {},
   "source": [
    "### Basic Sigmoid Model (with Gradient Descent, no mini batch, no regularization)"
   ]
  },
  {
   "cell_type": "code",
   "execution_count": 12,
   "metadata": {},
   "outputs": [],
   "source": [
    "def basic_model_sigmoid(X, Y, learning_rate, num_iteration, layers_dims):\n",
    "    \n",
    "    parameters = He_initialize_parameters(layers_dims)\n",
    "    costs = []\n",
    "    \n",
    "    for i in range(0, num_iteration):\n",
    "        AL, cache  = forward_prop(X, parameters)\n",
    "        cost = compute_cost_sigmoid(AL,Y)\n",
    "        if i%100==0:\n",
    "             print('cost after ' +str(i) +' epochs is ' + str(cost))\n",
    "        if i%10 ==0:\n",
    "            costs.append(cost)\n",
    "        grads  = back_prop_without_regularization(X, Y, cache)\n",
    "        parameters = gradient_descent_update(parameters, grads, learning_rate)\n",
    "     \n",
    "    plt.plot(np.squeeze(costs))\n",
    "    plt.ylabel('cost')\n",
    "    plt.xlabel('iterations (per tens)')\n",
    "    plt.title(\"Learning rate =\" + str(learning_rate))\n",
    "    plt.show()\n",
    "    return parameters\n",
    "\n",
    "\n"
   ]
  },
  {
   "cell_type": "code",
   "execution_count": null,
   "metadata": {},
   "outputs": [],
   "source": []
  },
  {
   "cell_type": "code",
   "execution_count": null,
   "metadata": {},
   "outputs": [],
   "source": []
  },
  {
   "cell_type": "code",
   "execution_count": null,
   "metadata": {},
   "outputs": [],
   "source": []
  },
  {
   "cell_type": "code",
   "execution_count": null,
   "metadata": {},
   "outputs": [],
   "source": []
  },
  {
   "cell_type": "code",
   "execution_count": null,
   "metadata": {},
   "outputs": [],
   "source": []
  }
 ],
 "metadata": {
  "kernelspec": {
   "display_name": "Python 3",
   "language": "python",
   "name": "python3"
  },
  "language_info": {
   "codemirror_mode": {
    "name": "ipython",
    "version": 3
   },
   "file_extension": ".py",
   "mimetype": "text/x-python",
   "name": "python",
   "nbconvert_exporter": "python",
   "pygments_lexer": "ipython3",
   "version": "3.5.5"
  }
 },
 "nbformat": 4,
 "nbformat_minor": 2
}
