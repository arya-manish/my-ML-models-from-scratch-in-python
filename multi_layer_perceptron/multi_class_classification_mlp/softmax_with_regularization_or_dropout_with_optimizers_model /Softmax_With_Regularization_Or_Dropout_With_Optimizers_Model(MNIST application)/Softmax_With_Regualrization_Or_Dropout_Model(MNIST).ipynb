{
 "cells": [
  {
   "cell_type": "code",
   "execution_count": 1,
   "metadata": {},
   "outputs": [
    {
     "name": "stderr",
     "output_type": "stream",
     "text": [
      "/Users/Apple/anaconda3/envs/Arya/lib/python3.5/importlib/_bootstrap.py:222: RuntimeWarning: compiletime version 3.6 of module 'tensorflow.python.framework.fast_tensor_util' does not match runtime version 3.5\n",
      "  return f(*args, **kwds)\n",
      "/Users/Apple/anaconda3/envs/Arya/lib/python3.5/site-packages/h5py/__init__.py:36: FutureWarning: Conversion of the second argument of issubdtype from `float` to `np.floating` is deprecated. In future, it will be treated as `np.float64 == np.dtype(float).type`.\n",
      "  from ._conv import register_converters as _register_converters\n"
     ]
    }
   ],
   "source": [
    "import numpy as np\n",
    "import matplotlib.pyplot as plt\n",
    "from Softmax_Necessary_Functions_With_Regularization_Or_Dropout_With_Optimizers import *\n",
    "from Softmax_Gradient_Checker_With_Regularization_Or_Dropout import *\n",
    "from Load_Dataset import read_input_file\n",
    "import time"
   ]
  },
  {
   "cell_type": "code",
   "execution_count": 2,
   "metadata": {},
   "outputs": [
    {
     "name": "stdout",
     "output_type": "stream",
     "text": [
      "WARNING:tensorflow:From /Users/Apple/Google Drive/My Deep Learning practice & innovation/My own model/Softmax_With_Regularization_Or_Dropout_With_Optimizers_Model /Softmax_With_Regularization_Or_Dropout_Model(MNIST application)/Load_Dataset.py:15: read_data_sets (from tensorflow.contrib.learn.python.learn.datasets.mnist) is deprecated and will be removed in a future version.\n",
      "Instructions for updating:\n",
      "Please use alternatives such as official/mnist/dataset.py from tensorflow/models.\n",
      "WARNING:tensorflow:From /Users/Apple/anaconda3/envs/Arya/lib/python3.5/site-packages/tensorflow/contrib/learn/python/learn/datasets/mnist.py:260: maybe_download (from tensorflow.contrib.learn.python.learn.datasets.base) is deprecated and will be removed in a future version.\n",
      "Instructions for updating:\n",
      "Please write your own downloading logic.\n",
      "WARNING:tensorflow:From /Users/Apple/anaconda3/envs/Arya/lib/python3.5/site-packages/tensorflow/contrib/learn/python/learn/datasets/mnist.py:262: extract_images (from tensorflow.contrib.learn.python.learn.datasets.mnist) is deprecated and will be removed in a future version.\n",
      "Instructions for updating:\n",
      "Please use tf.data to implement this functionality.\n",
      "Extracting MNIST/train-images-idx3-ubyte.gz\n",
      "WARNING:tensorflow:From /Users/Apple/anaconda3/envs/Arya/lib/python3.5/site-packages/tensorflow/contrib/learn/python/learn/datasets/mnist.py:267: extract_labels (from tensorflow.contrib.learn.python.learn.datasets.mnist) is deprecated and will be removed in a future version.\n",
      "Instructions for updating:\n",
      "Please use tf.data to implement this functionality.\n",
      "Extracting MNIST/train-labels-idx1-ubyte.gz\n",
      "WARNING:tensorflow:From /Users/Apple/anaconda3/envs/Arya/lib/python3.5/site-packages/tensorflow/contrib/learn/python/learn/datasets/mnist.py:110: dense_to_one_hot (from tensorflow.contrib.learn.python.learn.datasets.mnist) is deprecated and will be removed in a future version.\n",
      "Instructions for updating:\n",
      "Please use tf.one_hot on tensors.\n",
      "Extracting MNIST/t10k-images-idx3-ubyte.gz\n",
      "Extracting MNIST/t10k-labels-idx1-ubyte.gz\n",
      "WARNING:tensorflow:From /Users/Apple/anaconda3/envs/Arya/lib/python3.5/site-packages/tensorflow/contrib/learn/python/learn/datasets/mnist.py:290: DataSet.__init__ (from tensorflow.contrib.learn.python.learn.datasets.mnist) is deprecated and will be removed in a future version.\n",
      "Instructions for updating:\n",
      "Please use alternatives such as official/mnist/dataset.py from tensorflow/models.\n"
     ]
    }
   ],
   "source": [
    "X_train_orig, Y_train_orig, X_test_orig, Y_test_orig = read_input_file()"
   ]
  },
  {
   "cell_type": "code",
   "execution_count": 3,
   "metadata": {},
   "outputs": [
    {
     "name": "stdout",
     "output_type": "stream",
     "text": [
      "X_train has shape: (784, 55000)\n",
      "Y_train has shape: (10, 55000)\n",
      "X_test has shape: (784, 10000)\n",
      "Y_test has shape: (10, 10000)\n"
     ]
    }
   ],
   "source": [
    "X_train = X_train_orig.T\n",
    "Y_train = Y_train_orig.T\n",
    "X_test = X_test_orig.T\n",
    "Y_test = Y_test_orig.T\n",
    "print(\"X_train has shape: \" +str(X_train.shape))\n",
    "print(\"Y_train has shape: \" +str(Y_train.shape))\n",
    "print(\"X_test has shape: \" + str(X_test.shape))\n",
    "print(\"Y_test has shape: \" +str(Y_test.shape))\n"
   ]
  },
  {
   "cell_type": "code",
   "execution_count": 4,
   "metadata": {},
   "outputs": [
    {
     "name": "stdout",
     "output_type": "stream",
     "text": [
      "cost after 0 epochs is 2.032730168315585\n"
     ]
    },
    {
     "data": {
      "image/png": "[encoded data removed]",
      "text/plain": [
       "<Figure size 432x288 with 1 Axes>"
      ]
     },
     "metadata": {},
     "output_type": "display_data"
    },
    {
     "name": "stdout",
     "output_type": "stream",
     "text": [
      "Time taken in training is :10.027633905410767 seconds\n",
      "Train accuracy is : 0.4142181818181818\n",
      "Test accuracy is : 0.4171\n"
     ]
    }
   ],
   "source": [
    "tic = time.time()\n",
    "parameters = regularized_or_dropout_optimizers_model_softmax(X_train, Y_train, layers_dims = [X_train.shape[0], 5, 2, 10], minibatch_size = 4096, lambd = 0, keep_prob = 0, optimizer = 'rms_prop' ,  num_epochs = 10, learning_rate = 0.0007, beta1 = 0.9, beta2 = 0.999, epsilon = 1e-8) \n",
    "tac = time.time()\n",
    "print('Time taken in training is :' + str(tac-tic) +' seconds')\n",
    "train_accuracy = pred_accuracy_softmax(X_train, Y_train, parameters)\n",
    "test_accuracy = pred_accuracy_softmax(X_test, Y_test, parameters)\n",
    "print('Train accuracy is : '+str(train_accuracy))\n",
    "print('Test accuracy is : '+str(test_accuracy))"
   ]
  },
  {
   "cell_type": "code",
   "execution_count": null,
   "metadata": {},
   "outputs": [
    {
     "name": "stdout",
     "output_type": "stream",
     "text": [
      "gradient using grad checker is[0.]\n",
      "gradient using back prop is[0.]\n",
      "gradient using grad checker is[0.]\n",
      "gradient using back prop is[0.]\n",
      "gradient using grad checker is[0.]\n",
      "gradient using back prop is[0.]\n",
      "gradient using grad checker is[0.]\n",
      "gradient using back prop is[0.]\n",
      "gradient using grad checker is[0.]\n",
      "gradient using back prop is[0.]\n",
      "gradient using grad checker is[0.]\n",
      "gradient using back prop is[0.]\n",
      "gradient using grad checker is[0.]\n",
      "gradient using back prop is[0.]\n",
      "gradient using grad checker is[0.]\n",
      "gradient using back prop is[0.]\n",
      "gradient using grad checker is[0.]\n",
      "gradient using back prop is[0.]\n",
      "gradient using grad checker is[0.]\n",
      "gradient using back prop is[0.]\n",
      "gradient using grad checker is[0.]\n",
      "gradient using back prop is[0.]\n",
      "gradient using grad checker is[0.]\n",
      "gradient using back prop is[0.]\n",
      "gradient using grad checker is[0.]\n",
      "gradient using back prop is[0.]\n",
      "gradient using grad checker is[0.]\n",
      "gradient using back prop is[0.]\n",
      "gradient using grad checker is[0.]\n",
      "gradient using back prop is[0.]\n",
      "gradient using grad checker is[0.]\n",
      "gradient using back prop is[0.]\n",
      "gradient using grad checker is[0.]\n",
      "gradient using back prop is[0.]\n",
      "gradient using grad checker is[0.]\n",
      "gradient using back prop is[0.]\n",
      "gradient using grad checker is[0.]\n",
      "gradient using back prop is[0.]\n",
      "gradient using grad checker is[0.]\n",
      "gradient using back prop is[0.]\n",
      "gradient using grad checker is[0.]\n",
      "gradient using back prop is[0.]\n",
      "gradient using grad checker is[0.]\n",
      "gradient using back prop is[0.]\n",
      "gradient using grad checker is[0.]\n",
      "gradient using back prop is[0.]\n",
      "gradient using grad checker is[0.]\n",
      "gradient using back prop is[0.]\n",
      "gradient using grad checker is[0.]\n",
      "gradient using back prop is[0.]\n",
      "gradient using grad checker is[0.]\n",
      "gradient using back prop is[0.]\n",
      "gradient using grad checker is[0.]\n",
      "gradient using back prop is[0.]\n",
      "gradient using grad checker is[0.]\n",
      "gradient using back prop is[0.]\n",
      "gradient using grad checker is[0.]\n",
      "gradient using back prop is[0.]\n",
      "gradient using grad checker is[0.]\n",
      "gradient using back prop is[0.]\n",
      "gradient using grad checker is[0.]\n",
      "gradient using back prop is[0.]\n",
      "gradient using grad checker is[0.]\n",
      "gradient using back prop is[0.]\n",
      "gradient using grad checker is[0.]\n",
      "gradient using back prop is[0.]\n",
      "gradient using grad checker is[0.]\n",
      "gradient using back prop is[0.]\n",
      "gradient using grad checker is[0.]\n",
      "gradient using back prop is[0.]\n",
      "gradient using grad checker is[0.]\n",
      "gradient using back prop is[0.]\n",
      "gradient using grad checker is[0.]\n",
      "gradient using back prop is[0.]\n",
      "gradient using grad checker is[0.]\n",
      "gradient using back prop is[0.]\n",
      "gradient using grad checker is[0.]\n",
      "gradient using back prop is[0.]\n",
      "gradient using grad checker is[3.1052938e-06]\n",
      "gradient using back prop is[3.10702457e-06]\n",
      "gradient using grad checker is[6.14175377e-06]\n",
      "gradient using back prop is[6.14122825e-06]\n",
      "gradient using grad checker is[2.52353693e-06]\n",
      "gradient using back prop is[2.52445753e-06]\n",
      "gradient using grad checker is[0.]\n",
      "gradient using back prop is[0.]\n",
      "gradient using grad checker is[0.]\n",
      "gradient using back prop is[0.]\n",
      "gradient using grad checker is[0.]\n",
      "gradient using back prop is[0.]\n",
      "gradient using grad checker is[0.]\n",
      "gradient using back prop is[0.]\n",
      "gradient using grad checker is[0.]\n",
      "gradient using back prop is[0.]\n",
      "gradient using grad checker is[0.]\n",
      "gradient using back prop is[0.]\n",
      "gradient using grad checker is[0.]\n",
      "gradient using back prop is[0.]\n",
      "gradient using grad checker is[0.]\n",
      "gradient using back prop is[0.]\n",
      "gradient using grad checker is[0.]\n",
      "gradient using back prop is[0.]\n",
      "gradient using grad checker is[0.]\n",
      "gradient using back prop is[0.]\n",
      "gradient using grad checker is[0.]\n",
      "gradient using back prop is[0.]\n",
      "gradient using grad checker is[0.]\n",
      "gradient using back prop is[0.]\n",
      "gradient using grad checker is[0.]\n",
      "gradient using back prop is[0.]\n",
      "gradient using grad checker is[0.]\n",
      "gradient using back prop is[0.]\n",
      "gradient using grad checker is[0.]\n",
      "gradient using back prop is[0.]\n",
      "gradient using grad checker is[0.]\n",
      "gradient using back prop is[0.]\n",
      "gradient using grad checker is[0.]\n",
      "gradient using back prop is[0.]\n",
      "gradient using grad checker is[-6.21724894e-08]\n",
      "gradient using back prop is[-6.1614732e-08]\n",
      "gradient using grad checker is[8.10462808e-08]\n",
      "gradient using back prop is[8.03763575e-08]\n",
      "gradient using grad checker is[0.]\n",
      "gradient using back prop is[0.]\n",
      "gradient using grad checker is[0.]\n",
      "gradient using back prop is[0.]\n",
      "gradient using grad checker is[1.43107748e-06]\n",
      "gradient using back prop is[1.4315726e-06]\n",
      "gradient using grad checker is[3.61932706e-07]\n",
      "gradient using back prop is[3.62006864e-07]\n",
      "gradient using grad checker is[-3.31512595e-06]\n",
      "gradient using back prop is[-3.31703766e-06]\n",
      "gradient using grad checker is[-5.70099523e-06]\n",
      "gradient using back prop is[-5.70209811e-06]\n",
      "gradient using grad checker is[-1.42763579e-05]\n",
      "gradient using back prop is[-1.42765624e-05]\n",
      "gradient using grad checker is[-2.13151718e-05]\n",
      "gradient using back prop is[-2.13164149e-05]\n",
      "gradient using grad checker is[-3.18367555e-05]\n",
      "gradient using back prop is[-3.18369321e-05]\n",
      "gradient using grad checker is[-5.83888493e-05]\n",
      "gradient using back prop is[-5.83903104e-05]\n",
      "gradient using grad checker is[-6.04127859e-05]\n",
      "gradient using back prop is[-6.04121999e-05]\n",
      "gradient using grad checker is[-6.37689901e-05]\n",
      "gradient using back prop is[-6.37667656e-05]\n",
      "gradient using grad checker is[-5.09015052e-05]\n",
      "gradient using back prop is[-5.09013392e-05]\n",
      "gradient using grad checker is[-4.2338355e-05]\n",
      "gradient using back prop is[-4.23372345e-05]\n",
      "gradient using grad checker is[-1.35269573e-05]\n",
      "gradient using back prop is[-1.35276224e-05]\n",
      "gradient using grad checker is[-1.38034029e-05]\n",
      "gradient using back prop is[-1.38034672e-05]\n",
      "gradient using grad checker is[-7.68385355e-06]\n",
      "gradient using back prop is[-7.68367294e-06]\n",
      "gradient using grad checker is[-1.08357767e-06]\n",
      "gradient using back prop is[-1.08142109e-06]\n",
      "gradient using grad checker is[0.]\n",
      "gradient using back prop is[0.]\n",
      "gradient using grad checker is[0.]\n",
      "gradient using back prop is[0.]\n",
      "gradient using grad checker is[0.]\n",
      "gradient using back prop is[0.]\n",
      "gradient using grad checker is[0.]\n",
      "gradient using back prop is[0.]\n",
      "gradient using grad checker is[0.]\n",
      "gradient using back prop is[0.]\n",
      "gradient using grad checker is[0.]\n",
      "gradient using back prop is[0.]\n",
      "gradient using grad checker is[0.]\n",
      "gradient using back prop is[0.]\n",
      "gradient using grad checker is[0.]\n",
      "gradient using back prop is[0.]\n",
      "gradient using grad checker is[-1.61315405e-06]\n",
      "gradient using back prop is[-1.61447891e-06]\n"
     ]
    }
   ],
   "source": [
    "AL, cache = forward_prop(X_train, parameters)\n",
    "gradients = back_prop_without_regularization(X_train,Y_train,cache)\n",
    "difference = gradient_checker_with_regularization_or_dropout(X_train,Y_train,parameters,gradients, lambd = 0, keep_prob = 0)"
   ]
  },
  {
   "cell_type": "code",
   "execution_count": null,
   "metadata": {},
   "outputs": [],
   "source": []
  },
  {
   "cell_type": "code",
   "execution_count": null,
   "metadata": {},
   "outputs": [],
   "source": []
  }
 ],
 "metadata": {
  "kernelspec": {
   "display_name": "Python 3",
   "language": "python",
   "name": "python3"
  },
  "language_info": {
   "codemirror_mode": {
    "name": "ipython",
    "version": 3
   },
   "file_extension": ".py",
   "mimetype": "text/x-python",
   "name": "python",
   "nbconvert_exporter": "python",
   "pygments_lexer": "ipython3",
   "version": "3.5.5"
  }
 },
 "nbformat": 4,
 "nbformat_minor": 2
}
