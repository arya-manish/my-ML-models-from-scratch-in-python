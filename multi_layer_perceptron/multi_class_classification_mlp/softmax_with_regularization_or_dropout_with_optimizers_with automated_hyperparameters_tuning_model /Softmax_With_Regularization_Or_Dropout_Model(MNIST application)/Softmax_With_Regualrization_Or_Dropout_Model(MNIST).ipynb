{
 "cells": [
  {
   "cell_type": "code",
   "execution_count": null,
   "metadata": {},
   "outputs": [],
   "source": [
    "import numpy as np\n",
    "import matplotlib.pyplot as plt\n",
    "from Softmax_Necessary_Functions_With_Regularization_Or_Dropout_With_Optimizers_With_Automated_Hypertuning import *\n",
    "from Softmax_Gradient_Checker_With_Regularization_Or_Dropout import *\n",
    "from Load_Dataset import read_input_file\n",
    "import time"
   ]
  },
  {
   "cell_type": "code",
   "execution_count": null,
   "metadata": {},
   "outputs": [],
   "source": [
    "X_train_orig, Y_train_orig, X_test_orig, Y_test_orig = read_input_file()"
   ]
  },
  {
   "cell_type": "code",
   "execution_count": null,
   "metadata": {},
   "outputs": [],
   "source": [
    "X_train = X_train_orig.T\n",
    "Y_train = Y_train_orig.T\n",
    "X_test = X_test_orig.T\n",
    "Y_test = Y_test_orig.T\n",
    "print(\"X_train has shape: \" +str(X_train.shape))\n",
    "print(\"Y_train has shape: \" +str(Y_train.shape))\n",
    "print(\"X_test has shape: \" + str(X_test.shape))\n",
    "print(\"Y_test has shape: \" +str(Y_test.shape))\n"
   ]
  },
  {
   "cell_type": "code",
   "execution_count": null,
   "metadata": {},
   "outputs": [],
   "source": [
    "params, hyperparameters = automated_hyperparameters_tuning_dropout_version(X_train, Y_train, X_test, Y_test)"
   ]
  },
  {
   "cell_type": "code",
   "execution_count": null,
   "metadata": {},
   "outputs": [],
   "source": [
    "AL, cache = forward_prop(X_train, parameters)\n",
    "gradients = back_prop_without_regularization(X_train,Y_train,cache)\n",
    "difference = gradient_checker_with_regularization_or_dropout(X_train,Y_train,parameters,gradients, lambd = 0, keep_prob = 0)"
   ]
  },
  {
   "cell_type": "code",
   "execution_count": null,
   "metadata": {},
   "outputs": [],
   "source": []
  },
  {
   "cell_type": "code",
   "execution_count": null,
   "metadata": {},
   "outputs": [],
   "source": []
  },
  {
   "cell_type": "code",
   "execution_count": null,
   "metadata": {},
   "outputs": [],
   "source": []
  },
  {
   "cell_type": "code",
   "execution_count": null,
   "metadata": {},
   "outputs": [],
   "source": []
  }
 ],
 "metadata": {
  "kernelspec": {
   "display_name": "Python 3",
   "language": "python",
   "name": "python3"
  },
  "language_info": {
   "codemirror_mode": {
    "name": "ipython",
    "version": 3
   },
   "file_extension": ".py",
   "mimetype": "text/x-python",
   "name": "python",
   "nbconvert_exporter": "python",
   "pygments_lexer": "ipython3",
   "version": "3.5.5"
  }
 },
 "nbformat": 4,
 "nbformat_minor": 2
}
