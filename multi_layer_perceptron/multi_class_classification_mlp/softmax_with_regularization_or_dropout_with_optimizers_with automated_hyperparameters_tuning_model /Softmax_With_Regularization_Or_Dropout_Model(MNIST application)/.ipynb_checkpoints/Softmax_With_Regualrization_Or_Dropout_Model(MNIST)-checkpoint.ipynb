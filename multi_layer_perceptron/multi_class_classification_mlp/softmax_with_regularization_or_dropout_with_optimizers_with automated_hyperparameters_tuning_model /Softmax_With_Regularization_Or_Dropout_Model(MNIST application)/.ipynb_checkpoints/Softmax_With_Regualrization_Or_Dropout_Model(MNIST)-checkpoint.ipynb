{
 "cells": [
  {
   "cell_type": "code",
   "execution_count": 1,
   "metadata": {},
   "outputs": [
    {
     "name": "stderr",
     "output_type": "stream",
     "text": [
      "/Users/Apple/anaconda3/envs/Arya/lib/python3.5/importlib/_bootstrap.py:222: RuntimeWarning: compiletime version 3.6 of module 'tensorflow.python.framework.fast_tensor_util' does not match runtime version 3.5\n",
      "  return f(*args, **kwds)\n",
      "/Users/Apple/anaconda3/envs/Arya/lib/python3.5/site-packages/h5py/__init__.py:36: FutureWarning: Conversion of the second argument of issubdtype from `float` to `np.floating` is deprecated. In future, it will be treated as `np.float64 == np.dtype(float).type`.\n",
      "  from ._conv import register_converters as _register_converters\n"
     ]
    }
   ],
   "source": [
    "import numpy as np\n",
    "import matplotlib.pyplot as plt\n",
    "from Softmax_Necessary_Functions_With_Regularization_Or_Dropout import *\n",
    "from Softmax_Gradient_Checker_With_Regularization_Or_Dropout import *\n",
    "from Load_Dataset import read_input_file\n",
    "import time"
   ]
  },
  {
   "cell_type": "code",
   "execution_count": 2,
   "metadata": {},
   "outputs": [
    {
     "name": "stdout",
     "output_type": "stream",
     "text": [
      "WARNING:tensorflow:From /Users/Apple/Google Drive/My Deep Learning practice & innovation/My own model/Softmax_With__Regularization_Or_Dropout_Model /Softmax_With_Regularization_Or_Dropout_Model(MNIST application)/Load_Dataset.py:15: read_data_sets (from tensorflow.contrib.learn.python.learn.datasets.mnist) is deprecated and will be removed in a future version.\n",
      "Instructions for updating:\n",
      "Please use alternatives such as official/mnist/dataset.py from tensorflow/models.\n",
      "WARNING:tensorflow:From /Users/Apple/anaconda3/envs/Arya/lib/python3.5/site-packages/tensorflow/contrib/learn/python/learn/datasets/mnist.py:260: maybe_download (from tensorflow.contrib.learn.python.learn.datasets.base) is deprecated and will be removed in a future version.\n",
      "Instructions for updating:\n",
      "Please write your own downloading logic.\n",
      "WARNING:tensorflow:From /Users/Apple/anaconda3/envs/Arya/lib/python3.5/site-packages/tensorflow/contrib/learn/python/learn/datasets/mnist.py:262: extract_images (from tensorflow.contrib.learn.python.learn.datasets.mnist) is deprecated and will be removed in a future version.\n",
      "Instructions for updating:\n",
      "Please use tf.data to implement this functionality.\n",
      "Extracting MNIST/train-images-idx3-ubyte.gz\n",
      "WARNING:tensorflow:From /Users/Apple/anaconda3/envs/Arya/lib/python3.5/site-packages/tensorflow/contrib/learn/python/learn/datasets/mnist.py:267: extract_labels (from tensorflow.contrib.learn.python.learn.datasets.mnist) is deprecated and will be removed in a future version.\n",
      "Instructions for updating:\n",
      "Please use tf.data to implement this functionality.\n",
      "Extracting MNIST/train-labels-idx1-ubyte.gz\n",
      "WARNING:tensorflow:From /Users/Apple/anaconda3/envs/Arya/lib/python3.5/site-packages/tensorflow/contrib/learn/python/learn/datasets/mnist.py:110: dense_to_one_hot (from tensorflow.contrib.learn.python.learn.datasets.mnist) is deprecated and will be removed in a future version.\n",
      "Instructions for updating:\n",
      "Please use tf.one_hot on tensors.\n",
      "Extracting MNIST/t10k-images-idx3-ubyte.gz\n",
      "Extracting MNIST/t10k-labels-idx1-ubyte.gz\n",
      "WARNING:tensorflow:From /Users/Apple/anaconda3/envs/Arya/lib/python3.5/site-packages/tensorflow/contrib/learn/python/learn/datasets/mnist.py:290: DataSet.__init__ (from tensorflow.contrib.learn.python.learn.datasets.mnist) is deprecated and will be removed in a future version.\n",
      "Instructions for updating:\n",
      "Please use alternatives such as official/mnist/dataset.py from tensorflow/models.\n"
     ]
    }
   ],
   "source": [
    "X_train_orig, Y_train_orig, X_test_orig, Y_test_orig = read_input_file()"
   ]
  },
  {
   "cell_type": "code",
   "execution_count": 3,
   "metadata": {},
   "outputs": [
    {
     "name": "stdout",
     "output_type": "stream",
     "text": [
      "X_train has shape: (784, 55000)\n",
      "Y_train has shape: (10, 55000)\n",
      "X_test has shape: (784, 10000)\n",
      "Y_test has shape: (10, 10000)\n"
     ]
    }
   ],
   "source": [
    "X_train = X_train_orig.T\n",
    "Y_train = Y_train_orig.T\n",
    "X_test = X_test_orig.T\n",
    "Y_test = Y_test_orig.T\n",
    "print(\"X_train has shape: \" +str(X_train.shape))\n",
    "print(\"Y_train has shape: \" +str(Y_train.shape))\n",
    "print(\"X_test has shape: \" + str(X_test.shape))\n",
    "print(\"Y_test has shape: \" +str(Y_test.shape))\n"
   ]
  },
  {
   "cell_type": "code",
   "execution_count": 6,
   "metadata": {},
   "outputs": [
    {
     "name": "stdout",
     "output_type": "stream",
     "text": [
      "cost after 0 epochs is 2.480642821190429\n"
     ]
    },
    {
     "data": {
      "image/png": "[encoded data removed]",
      "text/plain": [
       "<Figure size 432x288 with 1 Axes>"
      ]
     },
     "metadata": {},
     "output_type": "display_data"
    },
    {
     "name": "stdout",
     "output_type": "stream",
     "text": [
      "Time taken in training is :10.464552879333496 seconds\n",
      "Train accuracy is : 0.11994545454545455\n",
      "Test accuracy is : 0.1164\n"
     ]
    }
   ],
   "source": [
    "tic = time.time()\n",
    "parameters = regularized_or_dropout_model_softmax(X_train, Y_train, 0.0075, 10, [784,6,3,10], lambd = 0, keep_prob = 0)\n",
    "tac = time.time()\n",
    "print('Time taken in training is :' + str(tac-tic) +' seconds')\n",
    "train_accuracy = pred_accuracy_softmax(X_train, Y_train, parameters)\n",
    "test_accuracy = pred_accuracy_softmax(X_test, Y_test, parameters)\n",
    "print('Train accuracy is : '+str(train_accuracy))\n",
    "print('Test accuracy is : '+str(test_accuracy))"
   ]
  },
  {
   "cell_type": "code",
   "execution_count": null,
   "metadata": {},
   "outputs": [
    {
     "name": "stdout",
     "output_type": "stream",
     "text": [
      "gradient using grad checker is[0.]\n",
      "gradient using back prop is[0.]\n",
      "gradient using grad checker is[0.]\n",
      "gradient using back prop is[0.]\n",
      "gradient using grad checker is[0.]\n",
      "gradient using back prop is[0.]\n",
      "gradient using grad checker is[0.]\n",
      "gradient using back prop is[0.]\n",
      "gradient using grad checker is[0.]\n",
      "gradient using back prop is[0.]\n",
      "gradient using grad checker is[0.]\n",
      "gradient using back prop is[0.]\n",
      "gradient using grad checker is[0.]\n",
      "gradient using back prop is[0.]\n",
      "gradient using grad checker is[0.]\n",
      "gradient using back prop is[0.]\n",
      "gradient using grad checker is[0.]\n",
      "gradient using back prop is[0.]\n",
      "gradient using grad checker is[0.]\n",
      "gradient using back prop is[0.]\n",
      "gradient using grad checker is[0.]\n",
      "gradient using back prop is[0.]\n",
      "gradient using grad checker is[0.]\n",
      "gradient using back prop is[0.]\n",
      "gradient using grad checker is[4.88498131e-08]\n",
      "gradient using back prop is[4.92919636e-08]\n",
      "gradient using grad checker is[1.06359366e-06]\n",
      "gradient using back prop is[1.06470646e-06]\n",
      "gradient using grad checker is[1.06359366e-06]\n",
      "gradient using back prop is[1.06470646e-06]\n",
      "gradient using grad checker is[4.21884749e-08]\n",
      "gradient using back prop is[4.43627677e-08]\n",
      "gradient using grad checker is[0.]\n",
      "gradient using back prop is[0.]\n",
      "gradient using grad checker is[0.]\n",
      "gradient using back prop is[0.]\n",
      "gradient using grad checker is[0.]\n",
      "gradient using back prop is[0.]\n",
      "gradient using grad checker is[0.]\n",
      "gradient using back prop is[0.]\n",
      "gradient using grad checker is[0.]\n",
      "gradient using back prop is[0.]\n",
      "gradient using grad checker is[0.]\n",
      "gradient using back prop is[0.]\n",
      "gradient using grad checker is[0.]\n",
      "gradient using back prop is[0.]\n",
      "gradient using grad checker is[0.]\n",
      "gradient using back prop is[0.]\n",
      "gradient using grad checker is[0.]\n",
      "gradient using back prop is[0.]\n",
      "gradient using grad checker is[0.]\n",
      "gradient using back prop is[0.]\n",
      "gradient using grad checker is[0.]\n",
      "gradient using back prop is[0.]\n",
      "gradient using grad checker is[0.]\n",
      "gradient using back prop is[0.]\n",
      "gradient using grad checker is[0.]\n",
      "gradient using back prop is[0.]\n",
      "gradient using grad checker is[0.]\n",
      "gradient using back prop is[0.]\n",
      "gradient using grad checker is[0.]\n",
      "gradient using back prop is[0.]\n",
      "gradient using grad checker is[0.]\n",
      "gradient using back prop is[0.]\n",
      "gradient using grad checker is[-1.28785871e-07]\n",
      "gradient using back prop is[-1.29049639e-07]\n",
      "gradient using grad checker is[-3.77475828e-07]\n",
      "gradient using back prop is[-3.79083299e-07]\n",
      "gradient using grad checker is[-1.55431223e-08]\n",
      "gradient using back prop is[-1.55043889e-08]\n",
      "gradient using grad checker is[9.54791801e-08]\n",
      "gradient using back prop is[9.45121013e-08]\n",
      "gradient using grad checker is[1.43662859e-06]\n",
      "gradient using back prop is[1.43387971e-06]\n",
      "gradient using grad checker is[-3.23518989e-06]\n",
      "gradient using back prop is[-3.23533622e-06]\n",
      "gradient using grad checker is[-7.27862215e-06]\n",
      "gradient using back prop is[-7.27855157e-06]\n",
      "gradient using grad checker is[-1.378897e-06]\n",
      "gradient using back prop is[-1.37815248e-06]\n",
      "gradient using grad checker is[-2.79554158e-06]\n",
      "gradient using back prop is[-2.79772842e-06]\n",
      "gradient using grad checker is[-2.95985458e-06]\n",
      "gradient using back prop is[-2.96042606e-06]\n",
      "gradient using grad checker is[-3.46389584e-06]\n",
      "gradient using back prop is[-3.46162343e-06]\n",
      "gradient using grad checker is[-1.82565074e-05]\n",
      "gradient using back prop is[-1.8253503e-05]\n",
      "gradient using grad checker is[-1.74371628e-05]\n",
      "gradient using back prop is[-1.74347833e-05]\n",
      "gradient using grad checker is[-1.45439216e-05]\n",
      "gradient using back prop is[-1.45444552e-05]\n",
      "gradient using grad checker is[-2.08277839e-05]\n",
      "gradient using back prop is[-2.08250205e-05]\n",
      "gradient using grad checker is[-1.90047977e-05]\n",
      "gradient using back prop is[-1.90066499e-05]\n",
      "gradient using grad checker is[-1.05870868e-05]\n",
      "gradient using back prop is[-1.05848881e-05]\n",
      "gradient using grad checker is[-1.84519067e-06]\n",
      "gradient using back prop is[-1.8434288e-06]\n",
      "gradient using grad checker is[-9.25926003e-07]\n",
      "gradient using back prop is[-9.24529441e-07]\n",
      "gradient using grad checker is[8.72635297e-07]\n",
      "gradient using back prop is[8.71998891e-07]\n",
      "gradient using grad checker is[0.]\n",
      "gradient using back prop is[0.]\n",
      "gradient using grad checker is[0.]\n",
      "gradient using back prop is[0.]\n",
      "gradient using grad checker is[0.]\n",
      "gradient using back prop is[0.]\n",
      "gradient using grad checker is[0.]\n",
      "gradient using back prop is[0.]\n",
      "gradient using grad checker is[0.]\n",
      "gradient using back prop is[0.]\n",
      "gradient using grad checker is[0.]\n",
      "gradient using back prop is[0.]\n",
      "gradient using grad checker is[2.97539771e-07]\n",
      "gradient using back prop is[2.97530954e-07]\n",
      "gradient using grad checker is[3.53050922e-07]\n",
      "gradient using back prop is[3.53607873e-07]\n",
      "gradient using grad checker is[4.10782519e-07]\n",
      "gradient using back prop is[4.11347661e-07]\n",
      "gradient using grad checker is[3.46389584e-07]\n",
      "gradient using back prop is[3.47444226e-07]\n",
      "gradient using grad checker is[2.69118061e-06]\n",
      "gradient using back prop is[2.69133174e-06]\n",
      "gradient using grad checker is[3.34399175e-06]\n",
      "gradient using back prop is[3.34039569e-06]\n",
      "gradient using grad checker is[6.71906975e-06]\n",
      "gradient using back prop is[6.71810134e-06]\n",
      "gradient using grad checker is[6.93445301e-06]\n",
      "gradient using back prop is[6.93497263e-06]\n",
      "gradient using grad checker is[7.2475359e-06]\n",
      "gradient using back prop is[7.24665508e-06]\n",
      "gradient using grad checker is[2.66653366e-05]\n",
      "gradient using back prop is[2.66649497e-05]\n",
      "gradient using grad checker is[1.68998149e-05]\n",
      "gradient using back prop is[1.68961914e-05]\n",
      "gradient using grad checker is[-5.52446977e-06]\n",
      "gradient using back prop is[-5.52336058e-06]\n",
      "gradient using grad checker is[-6.76747547e-05]\n",
      "gradient using back prop is[-6.76740649e-05]\n",
      "gradient using grad checker is[-0.00013259]\n",
      "gradient using back prop is[-0.00013259]\n",
      "gradient using grad checker is[-0.00019224]\n",
      "gradient using back prop is[-0.00019224]\n",
      "gradient using grad checker is[-0.00018371]\n",
      "gradient using back prop is[-0.00018371]\n",
      "gradient using grad checker is[-0.00023521]\n",
      "gradient using back prop is[-0.00023521]\n",
      "gradient using grad checker is[-0.00021479]\n",
      "gradient using back prop is[-0.00021479]\n",
      "gradient using grad checker is[-8.76876349e-05]\n",
      "gradient using back prop is[-8.76879279e-05]\n",
      "gradient using grad checker is[-3.07109893e-05]\n",
      "gradient using back prop is[-3.07094553e-05]\n",
      "gradient using grad checker is[-2.83195689e-05]\n",
      "gradient using back prop is[-2.83187746e-05]\n",
      "gradient using grad checker is[-1.34270373e-05]\n",
      "gradient using back prop is[-1.34249245e-05]\n",
      "gradient using grad checker is[4.52970994e-07]\n",
      "gradient using back prop is[4.52285358e-07]\n",
      "gradient using grad checker is[1.42774681e-06]\n",
      "gradient using back prop is[1.42734774e-06]\n",
      "gradient using grad checker is[0.]\n",
      "gradient using back prop is[0.]\n",
      "gradient using grad checker is[0.]\n",
      "gradient using back prop is[0.]\n",
      "gradient using grad checker is[0.]\n",
      "gradient using back prop is[0.]\n",
      "gradient using grad checker is[0.]\n",
      "gradient using back prop is[0.]\n",
      "gradient using grad checker is[6.61692923e-07]\n",
      "gradient using back prop is[6.62269208e-07]\n",
      "gradient using grad checker is[6.06181771e-07]\n",
      "gradient using back prop is[6.06287479e-07]\n",
      "gradient using grad checker is[3.15303339e-07]\n",
      "gradient using back prop is[3.14078497e-07]\n",
      "gradient using grad checker is[6.53477272e-06]\n",
      "gradient using back prop is[6.53442997e-06]\n",
      "gradient using grad checker is[1.21458399e-05]\n",
      "gradient using back prop is[1.21473524e-05]\n",
      "gradient using grad checker is[3.32556205e-05]\n",
      "gradient using back prop is[3.32567659e-05]\n",
      "gradient using grad checker is[0.00010208]\n",
      "gradient using back prop is[0.00010208]\n",
      "gradient using grad checker is[0.00020284]\n",
      "gradient using back prop is[0.00020284]\n",
      "gradient using grad checker is[0.00032863]\n",
      "gradient using back prop is[0.00032864]\n",
      "gradient using grad checker is[0.00048167]\n",
      "gradient using back prop is[0.00048167]\n",
      "gradient using grad checker is[0.00058786]\n",
      "gradient using back prop is[0.00058786]\n"
     ]
    }
   ],
   "source": [
    "AL, cache = forward_prop(X_train, parameters)\n",
    "gradients = back_prop_without_regularization(X_train,Y_train,cache)\n",
    "difference = gradient_checker_with_regularization_or_dropout(X_train,Y_train,parameters,gradients, lambd = 0, keep_prob = 0)"
   ]
  },
  {
   "cell_type": "code",
   "execution_count": null,
   "metadata": {},
   "outputs": [],
   "source": []
  },
  {
   "cell_type": "code",
   "execution_count": null,
   "metadata": {},
   "outputs": [],
   "source": []
  }
 ],
 "metadata": {
  "kernelspec": {
   "display_name": "Python 3",
   "language": "python",
   "name": "python3"
  },
  "language_info": {
   "codemirror_mode": {
    "name": "ipython",
    "version": 3
   },
   "file_extension": ".py",
   "mimetype": "text/x-python",
   "name": "python",
   "nbconvert_exporter": "python",
   "pygments_lexer": "ipython3",
   "version": "3.5.5"
  }
 },
 "nbformat": 4,
 "nbformat_minor": 2
}
