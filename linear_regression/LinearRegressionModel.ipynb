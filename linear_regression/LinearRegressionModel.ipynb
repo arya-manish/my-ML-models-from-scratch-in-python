{
 "cells": [
  {
   "cell_type": "markdown",
   "metadata": {},
   "source": [
    "## Linear Regression Model"
   ]
  },
  {
   "cell_type": "code",
   "execution_count": null,
   "metadata": {},
   "outputs": [],
   "source": [
    "import numpy as np\n",
    "import matplotlib.pyplot as plt"
   ]
  },
  {
   "cell_type": "code",
   "execution_count": null,
   "metadata": {},
   "outputs": [],
   "source": [
    "#step1\n",
    "def initialize_parameters(lenw):\n",
    "    w = np.random.randn(1,lenw)\n",
    "    # w = np.zeros((1,lenw))\n",
    "    b = 0\n",
    "    return w,b"
   ]
  },
  {
   "cell_type": "code",
   "execution_count": null,
   "metadata": {},
   "outputs": [],
   "source": [
    "#step2\n",
    "def forward_prop(X,w,b):  #w-->1xn , X-->nxm\n",
    "    z = np.dot(w,X)+ b  #z--> 1xm  b_vector = [b b b  ....]\n",
    "    return z"
   ]
  },
  {
   "cell_type": "code",
   "execution_count": null,
   "metadata": {},
   "outputs": [],
   "source": [
    "#step3\n",
    "def cost_function(z,y):\n",
    "    m = y.shape[1]\n",
    "    J = (1/(2*m))*np.sum(np.square(z-y))\n",
    "    return J"
   ]
  },
  {
   "cell_type": "code",
   "execution_count": null,
   "metadata": {},
   "outputs": [],
   "source": [
    "#step4\n",
    "def back_prop(X,y,z):\n",
    "    m = y.shape[1]\n",
    "    dz = (1/m)*(z-y)\n",
    "    dw = np.dot(dz,X.T)  #dw --> 1xn\n",
    "    db = np.sum(dz)\n",
    "    return dw,db"
   ]
  },
  {
   "cell_type": "code",
   "execution_count": null,
   "metadata": {},
   "outputs": [],
   "source": [
    "#step5\n",
    "def gradient_descent_update(w,b,dw,db,learning_rate):\n",
    "    w = w - learning_rate*dw\n",
    "    b = b - learning_rate*db\n",
    "    return w,b"
   ]
  },
  {
   "cell_type": "code",
   "execution_count": null,
   "metadata": {},
   "outputs": [],
   "source": [
    "#step6\n",
    "def linear_regression_model(X_train,y_train,X_val,y_val,learning_rate,epochs):\n",
    "    \n",
    "    lenw = X_train.shape[0]\n",
    "    w,b = initialize_parameters(lenw)  #step1\n",
    "    \n",
    "    costs_train = []\n",
    "    m_train = y_train.shape[1]\n",
    "    m_val = y_val.shape[1]\n",
    "    \n",
    "    for i in range(1,epochs+1):\n",
    "        z_train = forward_prop(X_train,w,b) #step2\n",
    "        cost_train = cost_function(z_train,y_train) #step3\n",
    "        dw,db = back_prop(X_train,y_train,z_train)  #step4\n",
    "        w,b = gradient_descent_update(w,b,dw,db,learning_rate) #step5\n",
    "        \n",
    "        #store training cost in a list for plotting purpose\n",
    "        if i%10==0:\n",
    "            costs_train.append(cost_train)\n",
    "        #MAE_train\n",
    "        MAE_train = (1/m_train)*np.sum(np.abs(z_train-y_train))\n",
    "        \n",
    "        # cost_val, MAE_val\n",
    "        z_val = forward_prop(X_val,w,b)\n",
    "        cost_val = cost_function(z_val,y_val)\n",
    "        MAE_val = (1/m_val)*np.sum(np.abs(z_val-y_val))\n",
    "        \n",
    "        #print out cost_train,cost_val,MAE_train,MAE_val\n",
    "        \n",
    "        print('Epochs '+str(i)+'/'+str(epochs)+': ')\n",
    "        print('Training cost '+str(cost_train)+'|'+'Validation cost '+str(cost_val))\n",
    "        print('Training MAE '+str(MAE_train)+'|'+'Validation MAE '+str(MAE_val))\n",
    "        \n",
    "        \n",
    "    plt.plot(costs_train)\n",
    "    plt.xlabel('Iterations(per tens)')\n",
    "    plt.ylabel('Training cost')\n",
    "    plt.title('Learning rate '+str(learning_rate))\n",
    "    plt.show()\n",
    "        \n",
    "        "
   ]
  },
  {
   "cell_type": "code",
   "execution_count": null,
   "metadata": {},
   "outputs": [],
   "source": []
  },
  {
   "cell_type": "code",
   "execution_count": null,
   "metadata": {},
   "outputs": [],
   "source": []
  },
  {
   "cell_type": "code",
   "execution_count": null,
   "metadata": {},
   "outputs": [],
   "source": []
  },
  {
   "cell_type": "code",
   "execution_count": null,
   "metadata": {},
   "outputs": [],
   "source": []
  },
  {
   "cell_type": "code",
   "execution_count": null,
   "metadata": {},
   "outputs": [],
   "source": []
  },
  {
   "cell_type": "code",
   "execution_count": null,
   "metadata": {},
   "outputs": [],
   "source": []
  },
  {
   "cell_type": "code",
   "execution_count": null,
   "metadata": {},
   "outputs": [],
   "source": []
  },
  {
   "cell_type": "code",
   "execution_count": null,
   "metadata": {},
   "outputs": [],
   "source": []
  },
  {
   "cell_type": "code",
   "execution_count": null,
   "metadata": {},
   "outputs": [],
   "source": []
  },
  {
   "cell_type": "code",
   "execution_count": null,
   "metadata": {},
   "outputs": [],
   "source": []
  }
 ],
 "metadata": {
  "kernelspec": {
   "display_name": "Python 3",
   "language": "python",
   "name": "python3"
  },
  "language_info": {
   "codemirror_mode": {
    "name": "ipython",
    "version": 3
   },
   "file_extension": ".py",
   "mimetype": "text/x-python",
   "name": "python",
   "nbconvert_exporter": "python",
   "pygments_lexer": "ipython3",
   "version": "3.6.4"
  }
 },
 "nbformat": 4,
 "nbformat_minor": 2
}
